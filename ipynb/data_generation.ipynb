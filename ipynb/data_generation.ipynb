{
 "cells": [
  {
   "cell_type": "code",
   "execution_count": 7,
   "metadata": {},
   "outputs": [],
   "source": [
    "\n",
    "import pandas as pd\n",
    "from entity import *\n",
    "import numpy as np\n",
    "import const\n",
    "import random\n",
    "from more_itertools import chunked\n",
    "loc = np.array([0, 0])\n",
    "random.seed(0)\n",
    "def read_data(\n",
    "    customer_df,plant_df,warehouse_df,sku_df\n",
    "):\n",
    "    plant_list = []\n",
    "    warehouse_list = []\n",
    "    customer_list = []\n",
    "    sku_list = []\n",
    "\n",
    "    # ==================== load all data ============================\n",
    "    plant_list = []\n",
    "    warehouse_list = []\n",
    "    customer_list = []\n",
    "    sku_list = []\n",
    "    # ==================== construct sku ============================\n",
    "    for i in list(sku_df.index):\n",
    "        irow = sku_df.loc[i]\n",
    "        sku_list.append(irow[\"id\"])\n",
    "\n",
    "    for w in warehouse_df.index:\n",
    "        items = warehouse_df.loc[w].values.tolist()\n",
    "        dc_id = items[0]\n",
    "        dc_latitude = items[1]\n",
    "        dc_longitude = items[2]\n",
    "        loc = np.array([dc_latitude, dc_longitude])\n",
    "        this_warehouse = Warehouse(\n",
    "            idx=dc_id,\n",
    "            location=loc,\n",
    "            initial_inventory=None,\n",
    "            inventory_capacity=None\n",
    "        )\n",
    "        warehouse_list.append(this_warehouse)\n",
    "    \n",
    "    for c in customer_df.index:\n",
    "        items = customer_df.loc[c].values.tolist()\n",
    "        customer_id = items[0]\n",
    "        customer_latitude = items[1]\n",
    "        customer_longitude = items[2]\n",
    "        loc = np.array([customer_latitude, customer_longitude])\n",
    "        this_customer = Customer(\n",
    "            idx=customer_id,\n",
    "            location=loc,\n",
    "            demand=None,\n",
    "            demand_sku=None\n",
    "        )\n",
    "        customer_list.append(this_customer)\n",
    "\n",
    "    for p in plant_df.index:\n",
    "        items = plant_df.loc[p].values.tolist()\n",
    "        plant_id = items[0]\n",
    "        plant_latitude = items[1]\n",
    "        plant_longitude = items[2]\n",
    "        loc = np.array([plant_latitude, plant_longitude])\n",
    "        this_plant = Plant(\n",
    "            idx=plant_id,\n",
    "            location=loc,\n",
    "            producible_sku=None,\n",
    "            production_capacity=None\n",
    "        )\n",
    "        plant_list.append(this_plant)\n",
    "    \n",
    "    return warehouse_list,plant_list,customer_list,sku_list\n"
   ]
  },
  {
   "cell_type": "code",
   "execution_count": 2,
   "metadata": {},
   "outputs": [],
   "source": [
    "# 1. 随机生成需求数据\n",
    "import random\n",
    "import pandas as pd\n",
    "\n",
    "# 创建一个简单的需求数据表\n",
    "num_customers = 1456\n",
    "num_skus = 500\n",
    "num_periods = 30\n",
    "\n",
    "# 创建顾客和 SKU 列表\n",
    "customers = [f\"C{i+1:04d}\" for i in range(num_customers)]\n",
    "skus = [f\"SKU{i+1:04d}\" for i in range(1, num_skus + 1)]\n",
    "\n",
    "# 为每个 SKU 生成需求数据\n",
    "demand_data = []\n",
    "for period in range(num_periods):\n",
    "    for customer in customers:\n",
    "        for sku in skus:\n",
    "            # 假设一些 SKU 是季节性产品，具有周期性需求\n",
    "            if int(sku[-4:]) % 3 == 0:\n",
    "                demand = random.randint(400, 500) if period % 4 == 0 else random.randint(100, 300)\n",
    "            # 假设一些 SKU 是长尾品，需求较低\n",
    "            elif int(sku[-4:]) % 2 == 0:\n",
    "                demand = random.randint(1, 100)\n",
    "            # 其他 SKU 是规律产品，需求相对稳定\n",
    "            else:\n",
    "                demand = random.randint(200, 500)\n",
    "            demand_data.append([customer, sku, demand, period])\n",
    "\n",
    "# 将需求数据转换为 DataFrame\n",
    "demand_df = pd.DataFrame(demand_data, columns=[\"id\", \"sku\", \"demand\", \"time\"])\n",
    "\n",
    "# 输出需求数据表\n",
    "# demand_df.to_csv('可用数据一/demand_sku.csv')\n",
    "\n",
    "demand_df.to_excel('data_random/demand_sku.xlsx',index = False)\n",
    "# 生成SKU 数据\n",
    "sku_df = pd.DataFrame(skus)\n",
    "# sku_df.to_csv('可用数据一/sku.csv', header=[\"id\"])\n",
    "\n",
    "\n",
    "sku_df.to_excel('data_random/sku.xlsx', header=[\"id\"] ,index = False)"
   ]
  },
  {
   "cell_type": "code",
   "execution_count": 9,
   "metadata": {},
   "outputs": [
    {
     "name": "stdout",
     "output_type": "stream",
     "text": [
      "200 1841 1456 500\n"
     ]
    }
   ],
   "source": [
    "import pandas as pd\n",
    "import openpyxl\n",
    "\n",
    "node_df = pd.read_excel('data/data_random/node_info.xlsx',sheet_name= 'tp')\n",
    "# 随机因素1:控制如何选择仓库和工厂\n",
    "# plant_df = node_df.iloc[:200]\n",
    "# warehouse_df = node_df.iloc[200:]\n",
    "# plant_df.loc[:,'id'] = plant_df.loc[:,'id'].str.replace('T', 'P')\n",
    "# new_data = pd.concat([plant_df,warehouse_df]).dropna()\n",
    "# new_data.to_excel('data/data_random/node_info.xlsx',sheet_name= 'tp')\n",
    "plant_df = node_df.query(\"id.str.startswith('P')\", engine=\"python\")\n",
    "warehouse_df = node_df.query(\"id.str.startswith('T')\", engine=\"python\")\n",
    "customer_df = pd.read_excel('data/data_random/node_info.xlsx',sheet_name= 'customer')\n",
    "sku_df = pd.read_excel('data/data_random/sku.xlsx')\n",
    "print(len(plant_df),len(warehouse_df),len(customer_df),len(sku_df))"
   ]
  },
  {
   "cell_type": "code",
   "execution_count": 10,
   "metadata": {},
   "outputs": [
    {
     "name": "stdout",
     "output_type": "stream",
     "text": [
      "[T0201, T0202, T0203, T0204, T0205, T0206, T0207, T0208, T0209, T0210, T0211, T0212, T0213, T0214, T0215, T0216, T0217, T0218, T0219, T0220, T0221, T0222, T0223, T0224, T0225, T0226, T0227, T0228, T0229, T0230, T0231, T0232, T0233, T0234, T0235, T0236, T0237, T0238, T0239, T0240, T0241, T0242, T0243, T0244, T0245, T0246, T0247, T0248, T0249, T0250, T0251, T0252, T0253, T0254, T0255, T0256, T0257, T0258, T0259, T0260, T0261, T0262, T0263, T0264, T0265, T0266, T0267, T0268, T0269, T0270, T0271, T0272, T0273, T0274, T0275, T0276, T0277, T0278, T0279, T0280, T0281, T0282, T0283, T0284, T0285, T0286, T0287, T0288, T0289, T0290, T0291, T0292, T0293, T0294, T0295, T0296, T0297, T0298, T0299, T0300, T0301, T0302, T0303, T0304, T0305, T0306, T0307, T0308, T0309, T0310, T0311, T0312, T0313, T0314, T0315, T0316, T0317, T0318, T0319, T0320, T0321, T0322, T0323, T0324, T0325, T0326, T0327, T0328, T0329, T0330, T0331, T0332, T0333, T0334, T0335, T0336, T0337, T0338, T0339, T0340, T0341, T0342, T0343, T0344, T0345, T0346, T0347, T0348, T0349, T0350, T0351, T0352, T0353, T0354, T0355, T0356, T0357, T0358, T0359, T0360, T0361, T0362, T0363, T0364, T0365, T0366, T0367, T0368, T0369, T0370, T0371, T0372, T0373, T0374, T0375, T0376, T0377, T0378, T0379, T0380, T0381, T0382, T0383, T0384, T0385, T0386, T0387, T0388, T0389, T0390, T0391, T0392, T0393, T0394, T0395, T0396, T0397, T0398, T0399, T0400, T0401, T0402, T0403, T0404, T0405, T0406, T0407, T0408, T0409, T0410, T0411, T0412, T0413, T0414, T0415, T0416, T0417, T0418, T0419, T0420, T0421, T0422, T0423, T0424, T0425, T0426, T0427, T0428, T0429, T0430, T0431, T0432, T0433, T0434, T0435, T0436, T0437, T0438, T0439, T0440, T0441, T0442, T0443, T0444, T0445, T0446, T0447, T0448, T0449, T0450, T0451, T0452, T0453, T0454, T0455, T0456, T0457, T0458, T0459, T0460, T0461, T0462, T0463, T0464, T0465, T0466, T0467, T0468, T0469, T0470, T0471, T0472, T0473, T0474, T0475, T0476, T0477, T0478, T0479, T0480, T0481, T0482, T0483, T0484, T0485, T0486, T0487, T0488, T0489, T0490, T0491, T0492, T0493, T0494, T0495, T0496, T0497, T0498, T0499, T0500, T0501, T0502, T0503, T0504, T0505, T0506, T0507, T0508, T0509, T0510, T0511, T0512, T0513, T0514, T0515, T0516, T0517, T0518, T0519, T0520, T0521, T0522, T0523, T0524, T0525, T0526, T0527, T0528, T0529, T0530, T0531, T0532, T0533, T0534, T0535, T0536, T0537, T0538, T0539, T0540, T0541, T0542, T0543, T0544, T0545, T0546, T0547, T0548, T0549, T0550, T0551, T0552, T0553, T0554, T0555, T0556, T0557, T0558, T0559, T0560, T0561, T0562, T0563, T0564, T0565, T0566, T0567, T0568, T0569, T0570, T0571, T0572, T0573, T0574, T0575, T0576, T0577, T0578, T0579, T0580, T0581, T0582, T0583, T0584, T0585, T0586, T0587, T0588, T0589, T0590, T0591, T0592, T0593, T0594, T0595, T0596, T0597, T0598, T0599, T0600, T0601, T0602, T0603, T0604, T0605, T0606, T0607, T0608, T0609, T0610, T0611, T0612, T0613, T0614, T0615, T0616, T0617, T0618, T0619, T0620, T0621, T0622, T0623, T0624, T0625, T0626, T0627, T0628, T0629, T0630, T0631, T0632, T0633, T0634, T0635, T0636, T0637, T0638, T0639, T0640, T0641, T0642, T0643, T0644, T0645, T0646, T0647, T0648, T0649, T0650, T0651, T0652, T0653, T0654, T0655, T0656, T0657, T0658, T0659, T0660, T0661, T0662, T0663, T0664, T0665, T0666, T0667, T0668, T0669, T0670, T0671, T0672, T0673, T0674, T0675, T0676, T0677, T0678, T0679, T0680, T0681, T0682, T0683, T0684, T0685, T0686, T0687, T0688, T0689, T0690, T0691, T0692, T0693, T0694, T0695, T0696, T0697, T0698, T0699, T0700, T0701, T0702, T0703, T0704, T0705, T0706, T0707, T0708, T0709, T0710, T0711, T0712, T0713, T0714, T0715, T0716, T0717, T0718, T0719, T0720, T0721, T0722, T0723, T0724, T0725, T0726, T0727, T0728, T0729, T0730, T0731, T0732, T0733, T0734, T0735, T0736, T0737, T0738, T0739, T0740, T0741, T0742, T0743, T0744, T0745, T0746, T0747, T0748, T0749, T0750, T0751, T0752, T0753, T0754, T0755, T0756, T0757, T0758, T0759, T0760, T0761, T0762, T0763, T0764, T0765, T0766, T0767, T0768, T0769, T0770, T0771, T0772, T0773, T0774, T0775, T0776, T0777, T0778, T0779, T0780, T0781, T0782, T0783, T0784, T0785, T0786, T0787, T0788, T0789, T0790, T0791, T0792, T0793, T0794, T0795, T0796, T0797, T0798, T0799, T0800, T0801, T0802, T0803, T0804, T0805, T0806, T0807, T0808, T0809, T0810, T0811, T0812, T0813, T0814, T0815, T0816, T0817, T0818, T0819, T0820, T0821, T0822, T0823, T0824, T0825, T0826, T0827, T0828, T0829, T0830, T0831, T0832, T0833, T0834, T0835, T0836, T0837, T0838, T0839, T0840, T0841, T0842, T0843, T0844, T0845, T0846, T0847, T0848, T0849, T0850, T0851, T0852, T0853, T0854, T0855, T0856, T0857, T0858, T0859, T0860, T0861, T0862, T0863, T0864, T0865, T0866, T0867, T0868, T0869, T0870, T0871, T0872, T0873, T0874, T0875, T0876, T0877, T0878, T0879, T0880, T0881, T0882, T0883, T0884, T0885, T0886, T0887, T0888, T0889, T0890, T0891, T0892, T0893, T0894, T0895, T0896, T0897, T0898, T0899, T0900, T0901, T0902, T0903, T0904, T0905, T0906, T0907, T0908, T0909, T0910, T0911, T0912, T0913, T0914, T0915, T0916, T0917, T0918, T0919, T0920, T0921, T0922, T0923, T0924, T0925, T0926, T0927, T0928, T0929, T0930, T0931, T0932, T0933, T0934, T0935, T0936, T0937, T0938, T0939, T0940, T0941, T0942, T0943, T0944, T0945, T0946, T0947, T0948, T0949, T0950, T0951, T0952, T0953, T0954, T0955, T0956, T0957, T0958, T0959, T0960, T0961, T0962, T0963, T0964, T0965, T0966, T0967, T0968, T0969, T0970, T0971, T0972, T0973, T0974, T0975, T0976, T0977, T0978, T0979, T0980, T0981, T0982, T0983, T0984, T0985, T0986, T0987, T0988, T0989, T0990, T0991, T0992, T0993, T0994, T0995, T0996, T0997, T0998, T0999, T1000, T1001, T1002, T1003, T1004, T1005, T1006, T1007, T1008, T1009, T1010, T1011, T1012, T1013, T1014, T1015, T1016, T1017, T1018, T1019, T1020, T1021, T1022, T1023, T1024, T1025, T1026, T1027, T1028, T1029, T1030, T1031, T1032, T1033, T1034, T1035, T1036, T1037, T1038, T1039, T1040, T1041, T1042, T1043, T1044, T1045, T1046, T1047, T1048, T1049, T1050, T1051, T1052, T1053, T1054, T1055, T1056, T1057, T1058, T1059, T1060, T1061, T1062, T1063, T1064, T1065, T1066, T1067, T1068, T1069, T1070, T1071, T1072, T1073, T1074, T1075, T1076, T1077, T1078, T1079, T1080, T1081, T1082, T1083, T1084, T1085, T1086, T1087, T1088, T1089, T1090, T1091, T1092, T1093, T1094, T1095, T1096, T1097, T1098, T1099, T1100, T1101, T1102, T1103, T1104, T1105, T1106, T1107, T1108, T1109, T1110, T1111, T1112, T1113, T1114, T1115, T1116, T1117, T1118, T1119, T1120, T1121, T1122, T1123, T1124, T1125, T1126, T1127, T1128, T1129, T1130, T1131, T1132, T1133, T1134, T1135, T1136, T1137, T1138, T1139, T1140, T1141, T1142, T1143, T1144, T1145, T1146, T1147, T1148, T1149, T1150, T1151, T1152, T1153, T1154, T1155, T1156, T1157, T1158, T1159, T1160, T1161, T1162, T1163, T1164, T1165, T1166, T1167, T1168, T1169, T1170, T1171, T1172, T1173, T1174, T1175, T1176, T1177, T1178, T1179, T1180, T1181, T1182, T1183, T1184, T1185, T1186, T1187, T1188, T1189, T1190, T1191, T1192, T1193, T1194, T1195, T1196, T1197, T1198, T1199, T1200, T1201, T1202, T1203, T1204, T1205, T1206, T1207, T1208, T1209, T1210, T1211, T1212, T1213, T1214, T1215, T1216, T1217, T1218, T1219, T1220, T1221, T1222, T1223, T1224, T1225, T1226, T1227, T1228, T1229, T1230, T1231, T1232, T1233, T1234, T1235, T1236, T1237, T1238, T1239, T1240, T1241, T1242, T1243, T1244, T1245, T1246, T1247, T1248, T1249, T1250, T1251, T1252, T1253, T1254, T1255, T1256, T1257, T1258, T1259, T1260, T1261, T1262, T1263, T1264, T1265, T1266, T1267, T1268, T1269, T1270, T1271, T1272, T1273, T1274, T1275, T1276, T1277, T1278, T1279, T1280, T1281, T1282, T1283, T1284, T1285, T1286, T1287, T1288, T1289, T1290, T1291, T1292, T1293, T1294, T1295, T1296, T1297, T1298, T1299, T1300, T1301, T1302, T1303, T1304, T1305, T1306, T1307, T1308, T1309, T1310, T1311, T1312, T1313, T1314, T1315, T1316, T1317, T1318, T1319, T1320, T1321, T1322, T1323, T1324, T1325, T1326, T1327, T1328, T1329, T1330, T1331, T1332, T1333, T1334, T1335, T1336, T1337, T1338, T1339, T1340, T1341, T1342, T1343, T1344, T1345, T1346, T1347, T1348, T1349, T1350, T1351, T1352, T1353, T1354, T1355, T1356, T1357, T1358, T1359, T1360, T1361, T1362, T1363, T1364, T1365, T1366, T1367, T1368, T1369, T1370, T1371, T1372, T1373, T1374, T1375, T1376, T1377, T1378, T1379, T1380, T1381, T1382, T1383, T1384, T1385, T1386, T1387, T1388, T1389, T1390, T1391, T1392, T1393, T1394, T1395, T1396, T1397, T1398, T1399, T1400, T1401, T1402, T1403, T1404, T1405, T1406, T1407, T1408, T1409, T1410, T1411, T1412, T1413, T1414, T1415, T1416, T1417, T1418, T1419, T1420, T1421, T1422, T1423, T1424, T1425, T1426, T1427, T1428, T1429, T1430, T1431, T1432, T1433, T1434, T1435, T1436, T1437, T1438, T1439, T1440, T1441, T1442, T1443, T1444, T1445, T1446, T1447, T1448, T1449, T1450, T1451, T1452, T1453, T1454, T1455, T1456, T1457, T1458, T1459, T1460, T1461, T1462, T1463, T1464, T1465, T1466, T1467, T1468, T1469, T1470, T1471, T1472, T1473, T1474, T1475, T1476, T1477, T1478, T1479, T1480, T1481, T1482, T1483, T1484, T1485, T1486, T1487, T1488, T1489, T1490, T1491, T1492, T1493, T1494, T1495, T1496, T1497, T1498, T1499, T1500, T1501, T1502, T1503, T1504, T1505, T1506, T1507, T1508, T1509, T1510, T1511, T1512, T1513, T1514, T1515, T1516, T1517, T1518, T1519, T1520, T1521, T1522, T1523, T1524, T1525, T1526, T1527, T1528, T1529, T1530, T1531, T1532, T1533, T1534, T1535, T1536, T1537, T1538, T1539, T1540, T1541, T1542, T1543, T1544, T1545, T1546, T1547, T1548, T1549, T1550, T1551, T1552, T1553, T1554, T1555, T1556, T1557, T1558, T1559, T1560, T1561, T1562, T1563, T1564, T1565, T1566, T1567, T1568, T1569, T1570, T1571, T1572, T1573, T1574, T1575, T1576, T1577, T1578, T1579, T1580, T1581, T1582, T1583, T1584, T1585, T1586, T1587, T1588, T1589, T1590, T1591, T1592, T1593, T1594, T1595, T1596, T1597, T1598, T1599, T1600, T1601, T1602, T1603, T1604, T1605, T1606, T1607, T1608, T1609, T1610, T1611, T1612, T1613, T1614, T1615, T1616, T1617, T1618, T1619, T1620, T1621, T1622, T1623, T1624, T1625, T1626, T1627, T1628, T1629, T1630, T1631, T1632, T1633, T1634, T1635, T1636, T1637, T1638, T1639, T1640, T1641, T1642, T1643, T1644, T1645, T1646, T1647, T1648, T1649, T1650, T1651, T1652, T1653, T1654, T1655, T1656, T1657, T1658, T1659, T1660, T1661, T1662, T1663, T1664, T1665, T1666, T1667, T1668, T1669, T1670, T1671, T1672, T1673, T1674, T1675, T1676, T1677, T1678, T1679, T1680, T1681, T1682, T1683, T1684, T1685, T1686, T1687, T1688, T1689, T1690, T1691, T1692, T1693, T1694, T1695, T1696, T1697, T1698, T1699, T1700, T1701, T1702, T1703, T1704, T1705, T1706, T1707, T1708, T1709, T1710, T1711, T1712, T1713, T1714, T1715, T1716, T1717, T1718, T1719, T1720, T1721, T1722, T1723, T1724, T1725, T1726, T1727, T1728, T1729, T1730, T1731, T1732, T1733, T1734, T1735, T1736, T1737, T1738, T1739, T1740, T1741, T1742, T1743, T1744, T1745, T1746, T1747, T1748, T1749, T1750, T1751, T1752, T1753, T1754, T1755, T1756, T1757, T1758, T1759, T1760, T1761, T1762, T1763, T1764, T1765, T1766, T1767, T1768, T1769, T1770, T1771, T1772, T1773, T1774, T1775, T1776, T1777, T1778, T1779, T1780, T1781, T1782, T1783, T1784, T1785, T1786, T1787, T1788, T1789, T1790, T1791, T1792, T1793, T1794, T1795, T1796, T1797, T1798, T1799, T1800, T1801, T1802, T1803, T1804, T1805, T1806, T1807, T1808, T1809, T1810, T1811, T1812, T1813, T1814, T1815, T1816, T1817, T1818, T1819, T1820, T1821, T1822, T1823, T1824, T1825, T1826, T1827, T1828, T1829, T1830, T1831, T1832, T1833, T1834, T1835, T1836, T1837, T1838, T1839, T1840, T1841, T1842, T1843, T1844, T1845, T1846, T1847, T1848, T1849, T1850, T1851, T1852, T1853, T1854, T1855, T1856, T1857, T1858, T1859, T1860, T1861, T1862, T1863, T1864, T1865, T1866, T1867, T1868, T1869, T1870, T1871, T1872, T1873, T1874, T1875, T1876, T1877, T1878, T1879, T1880, T1881, T1882, T1883, T1884, T1885, T1886, T1887, T1888, T1889, T1890, T1891, T1892, T1893, T1894, T1895, T1896, T1897, T1898, T1899, T1900, T1901, T1902, T1903, T1904, T1905, T1906, T1907, T1908, T1909, T1910, T1911, T1912, T1913, T1914, T1915, T1916, T1917, T1918, T1919, T1920, T1921, T1922, T1923, T1924, T1925, T1926, T1927, T1928, T1929, T1930, T1931, T1932, T1933, T1934, T1935, T1936, T1937, T1938, T1939, T1940, T1941, T1942, T1943, T1944, T1945, T1946, T1947, T1948, T1949, T1950, T1951, T1952, T1953, T1954, T1955, T1956, T1957, T1958, T1959, T1960, T1961, T1962, T1963, T1964, T1965, T1966, T1967, T1968, T1969, T1970, T1971, T1972, T1973, T1974, T1975, T1976, T1977, T1978, T1979, T1980, T1981, T1982, T1983, T1984, T1985, T1986, T1987, T1988, T1989, T1990, T1991, T1992, T1993, T1994, T1995, T1996, T1997, T1998, T1999, T2000, T2001, T2002, T2003, T2004, T2005, T2006, T2007, T2008, T2009, T2010, T2011, T2012, T2013, T2014, T2015, T2016, T2017, T2018, T2019, T2020, T2021, T2022, T2023, T2024, T2025, T2026, T2027, T2028, T2029, T2030, T2031, T2032, T2033, T2034, T2035, T2036, T2037, T2038, T2039, T2040, T2041]\n",
      "[P0001, P0002, P0003, P0004, P0005, P0006, P0007, P0008, P0009, P0010, P0011, P0012, P0013, P0014, P0015, P0016, P0017, P0018, P0019, P0020, P0021, P0022, P0023, P0024, P0025, P0026, P0027, P0028, P0029, P0030, P0031, P0032, P0033, P0034, P0035, P0036, P0037, P0038, P0039, P0040, P0041, P0042, P0043, P0044, P0045, P0046, P0047, P0048, P0049, P0050, P0051, P0052, P0053, P0054, P0055, P0056, P0057, P0058, P0059, P0060, P0061, P0062, P0063, P0064, P0065, P0066, P0067, P0068, P0069, P0070, P0071, P0072, P0073, P0074, P0075, P0076, P0077, P0078, P0079, P0080, P0081, P0082, P0083, P0084, P0085, P0086, P0087, P0088, P0089, P0090, P0091, P0092, P0093, P0094, P0095, P0096, P0097, P0098, P0099, P0100, P0101, P0102, P0103, P0104, P0105, P0106, P0107, P0108, P0109, P0110, P0111, P0112, P0113, P0114, P0115, P0116, P0117, P0118, P0119, P0120, P0121, P0122, P0123, P0124, P0125, P0126, P0127, P0128, P0129, P0130, P0131, P0132, P0133, P0134, P0135, P0136, P0137, P0138, P0139, P0140, P0141, P0142, P0143, P0144, P0145, P0146, P0147, P0148, P0149, P0150, P0151, P0152, P0153, P0154, P0155, P0156, P0157, P0158, P0159, P0160, P0161, P0162, P0163, P0164, P0165, P0166, P0167, P0168, P0169, P0170, P0171, P0172, P0173, P0174, P0175, P0176, P0177, P0178, P0179, P0180, P0181, P0182, P0183, P0184, P0185, P0186, P0187, P0188, P0189, P0190, P0191, P0192, P0193, P0194, P0195, P0196, P0197, P0198, P0199, P0200]\n",
      "[C0001, C0002, C0003, C0004, C0005, C0006, C0007, C0008, C0009, C0010, C0011, C0012, C0013, C0014, C0015, C0016, C0017, C0018, C0019, C0020, C0021, C0022, C0023, C0024, C0025, C0026, C0027, C0028, C0029, C0030, C0031, C0032, C0033, C0034, C0035, C0036, C0037, C0038, C0039, C0040, C0041, C0042, C0043, C0044, C0045, C0046, C0047, C0048, C0049, C0050, C0051, C0052, C0053, C0054, C0055, C0056, C0057, C0058, C0059, C0060, C0061, C0062, C0063, C0064, C0065, C0066, C0067, C0068, C0069, C0070, C0071, C0072, C0073, C0074, C0075, C0076, C0077, C0078, C0079, C0080, C0081, C0082, C0083, C0084, C0085, C0086, C0087, C0088, C0089, C0090, C0091, C0092, C0093, C0094, C0095, C0096, C0097, C0098, C0099, C0100, C0101, C0102, C0103, C0104, C0105, C0106, C0107, C0108, C0109, C0110, C0111, C0112, C0113, C0114, C0115, C0116, C0117, C0118, C0119, C0120, C0121, C0122, C0123, C0124, C0125, C0126, C0127, C0128, C0129, C0130, C0131, C0132, C0133, C0134, C0135, C0136, C0137, C0138, C0139, C0140, C0141, C0142, C0143, C0144, C0145, C0146, C0147, C0148, C0149, C0150, C0151, C0152, C0153, C0154, C0155, C0156, C0157, C0158, C0159, C0160, C0161, C0162, C0163, C0164, C0165, C0166, C0167, C0168, C0169, C0170, C0171, C0172, C0173, C0174, C0175, C0176, C0177, C0178, C0179, C0180, C0181, C0182, C0183, C0184, C0185, C0186, C0187, C0188, C0189, C0190, C0191, C0192, C0193, C0194, C0195, C0196, C0197, C0198, C0199, C0200, C0201, C0202, C0203, C0204, C0205, C0206, C0207, C0208, C0209, C0210, C0211, C0212, C0213, C0214, C0215, C0216, C0217, C0218, C0219, C0220, C0221, C0222, C0223, C0224, C0225, C0226, C0227, C0228, C0229, C0230, C0231, C0232, C0233, C0234, C0235, C0236, C0237, C0238, C0239, C0240, C0241, C0242, C0243, C0244, C0245, C0246, C0247, C0248, C0249, C0250, C0251, C0252, C0253, C0254, C0255, C0256, C0257, C0258, C0259, C0260, C0261, C0262, C0263, C0264, C0265, C0266, C0267, C0268, C0269, C0270, C0271, C0272, C0273, C0274, C0275, C0276, C0277, C0278, C0279, C0280, C0281, C0282, C0283, C0284, C0285, C0286, C0287, C0288, C0289, C0290, C0291, C0292, C0293, C0294, C0295, C0296, C0297, C0298, C0299, C0300, C0301, C0302, C0303, C0304, C0305, C0306, C0307, C0308, C0309, C0310, C0311, C0312, C0313, C0314, C0315, C0316, C0317, C0318, C0319, C0320, C0321, C0322, C0323, C0324, C0325, C0326, C0327, C0328, C0329, C0330, C0331, C0332, C0333, C0334, C0335, C0336, C0337, C0338, C0339, C0340, C0341, C0342, C0343, C0344, C0345, C0346, C0347, C0348, C0349, C0350, C0351, C0352, C0353, C0354, C0355, C0356, C0357, C0358, C0359, C0360, C0361, C0362, C0363, C0364, C0365, C0366, C0367, C0368, C0369, C0370, C0371, C0372, C0373, C0374, C0375, C0376, C0377, C0378, C0379, C0380, C0381, C0382, C0383, C0384, C0385, C0386, C0387, C0388, C0389, C0390, C0391, C0392, C0393, C0394, C0395, C0396, C0397, C0398, C0399, C0400, C0401, C0402, C0403, C0404, C0405, C0406, C0407, C0408, C0409, C0410, C0411, C0412, C0413, C0414, C0415, C0416, C0417, C0418, C0419, C0420, C0421, C0422, C0423, C0424, C0425, C0426, C0427, C0428, C0429, C0430, C0431, C0432, C0433, C0434, C0435, C0436, C0437, C0438, C0439, C0440, C0441, C0442, C0443, C0444, C0445, C0446, C0447, C0448, C0449, C0450, C0451, C0452, C0453, C0454, C0455, C0456, C0457, C0458, C0459, C0460, C0461, C0462, C0463, C0464, C0465, C0466, C0467, C0468, C0469, C0470, C0471, C0472, C0473, C0474, C0475, C0476, C0477, C0478, C0479, C0480, C0481, C0482, C0483, C0484, C0485, C0486, C0487, C0488, C0489, C0490, C0491, C0492, C0493, C0494, C0495, C0496, C0497, C0498, C0499, C0500, C0501, C0502, C0503, C0504, C0505, C0506, C0507, C0508, C0509, C0510, C0511, C0512, C0513, C0514, C0515, C0516, C0517, C0518, C0519, C0520, C0521, C0522, C0523, C0524, C0525, C0526, C0527, C0528, C0529, C0530, C0531, C0532, C0533, C0534, C0535, C0536, C0537, C0538, C0539, C0540, C0541, C0542, C0543, C0544, C0545, C0546, C0547, C0548, C0549, C0550, C0551, C0552, C0553, C0554, C0555, C0556, C0557, C0558, C0559, C0560, C0561, C0562, C0563, C0564, C0565, C0566, C0567, C0568, C0569, C0570, C0571, C0572, C0573, C0574, C0575, C0576, C0577, C0578, C0579, C0580, C0581, C0582, C0583, C0584, C0585, C0586, C0587, C0588, C0589, C0590, C0591, C0592, C0593, C0594, C0595, C0596, C0597, C0598, C0599, C0600, C0601, C0602, C0603, C0604, C0605, C0606, C0607, C0608, C0609, C0610, C0611, C0612, C0613, C0614, C0615, C0616, C0617, C0618, C0619, C0620, C0621, C0622, C0623, C0624, C0625, C0626, C0627, C0628, C0629, C0630, C0631, C0632, C0633, C0634, C0635, C0636, C0637, C0638, C0639, C0640, C0641, C0642, C0643, C0644, C0645, C0646, C0647, C0648, C0649, C0650, C0651, C0652, C0653, C0654, C0655, C0656, C0657, C0658, C0659, C0660, C0661, C0662, C0663, C0664, C0665, C0666, C0667, C0668, C0669, C0670, C0671, C0672, C0673, C0674, C0675, C0676, C0677, C0678, C0679, C0680, C0681, C0682, C0683, C0684, C0685, C0686, C0687, C0688, C0689, C0690, C0691, C0692, C0693, C0694, C0695, C0696, C0697, C0698, C0699, C0700, C0701, C0702, C0703, C0704, C0705, C0706, C0707, C0708, C0709, C0710, C0711, C0712, C0713, C0714, C0715, C0716, C0717, C0718, C0719, C0720, C0721, C0722, C0723, C0724, C0725, C0726, C0727, C0728, C0729, C0730, C0731, C0732, C0733, C0734, C0735, C0736, C0737, C0738, C0739, C0740, C0741, C0742, C0743, C0744, C0745, C0746, C0747, C0748, C0749, C0750, C0751, C0752, C0753, C0754, C0755, C0756, C0757, C0758, C0759, C0760, C0761, C0762, C0763, C0764, C0765, C0766, C0767, C0768, C0769, C0770, C0771, C0772, C0773, C0774, C0775, C0776, C0777, C0778, C0779, C0780, C0781, C0782, C0783, C0784, C0785, C0786, C0787, C0788, C0789, C0790, C0791, C0792, C0793, C0794, C0795, C0796, C0797, C0798, C0799, C0800, C0801, C0802, C0803, C0804, C0805, C0806, C0807, C0808, C0809, C0810, C0811, C0812, C0813, C0814, C0815, C0816, C0817, C0818, C0819, C0820, C0821, C0822, C0823, C0824, C0825, C0826, C0827, C0828, C0829, C0830, C0831, C0832, C0833, C0834, C0835, C0836, C0837, C0838, C0839, C0840, C0841, C0842, C0843, C0844, C0845, C0846, C0847, C0848, C0849, C0850, C0851, C0852, C0853, C0854, C0855, C0856, C0857, C0858, C0859, C0860, C0861, C0862, C0863, C0864, C0865, C0866, C0867, C0868, C0869, C0870, C0871, C0872, C0873, C0874, C0875, C0876, C0877, C0878, C0879, C0880, C0881, C0882, C0883, C0884, C0885, C0886, C0887, C0888, C0889, C0890, C0891, C0892, C0893, C0894, C0895, C0896, C0897, C0898, C0899, C0900, C0901, C0902, C0903, C0904, C0905, C0906, C0907, C0908, C0909, C0910, C0911, C0912, C0913, C0914, C0915, C0916, C0917, C0918, C0919, C0920, C0921, C0922, C0923, C0924, C0925, C0926, C0927, C0928, C0929, C0930, C0931, C0932, C0933, C0934, C0935, C0936, C0937, C0938, C0939, C0940, C0941, C0942, C0943, C0944, C0945, C0946, C0947, C0948, C0949, C0950, C0951, C0952, C0953, C0954, C0955, C0956, C0957, C0958, C0959, C0960, C0961, C0962, C0963, C0964, C0965, C0966, C0967, C0968, C0969, C0970, C0971, C0972, C0973, C0974, C0975, C0976, C0977, C0978, C0979, C0980, C0981, C0982, C0983, C0984, C0985, C0986, C0987, C0988, C0989, C0990, C0991, C0992, C0993, C0994, C0995, C0996, C0997, C0998, C0999, C1000, C1001, C1002, C1003, C1004, C1005, C1006, C1007, C1008, C1009, C1010, C1011, C1012, C1013, C1014, C1015, C1016, C1017, C1018, C1019, C1020, C1021, C1022, C1023, C1024, C1025, C1026, C1027, C1028, C1029, C1030, C1031, C1032, C1033, C1034, C1035, C1036, C1037, C1038, C1039, C1040, C1041, C1042, C1043, C1044, C1045, C1046, C1047, C1048, C1049, C1050, C1051, C1052, C1053, C1054, C1055, C1056, C1057, C1058, C1059, C1060, C1061, C1062, C1063, C1064, C1065, C1066, C1067, C1068, C1069, C1070, C1071, C1072, C1073, C1074, C1075, C1076, C1077, C1078, C1079, C1080, C1081, C1082, C1083, C1084, C1085, C1086, C1087, C1088, C1089, C1090, C1091, C1092, C1093, C1094, C1095, C1096, C1097, C1098, C1099, C1100, C1101, C1102, C1103, C1104, C1105, C1106, C1107, C1108, C1109, C1110, C1111, C1112, C1113, C1114, C1115, C1116, C1117, C1118, C1119, C1120, C1121, C1122, C1123, C1124, C1125, C1126, C1127, C1128, C1129, C1130, C1131, C1132, C1133, C1134, C1135, C1136, C1137, C1138, C1139, C1140, C1141, C1142, C1143, C1144, C1145, C1146, C1147, C1148, C1149, C1150, C1151, C1152, C1153, C1154, C1155, C1156, C1157, C1158, C1159, C1160, C1161, C1162, C1163, C1164, C1165, C1166, C1167, C1168, C1169, C1170, C1171, C1172, C1173, C1174, C1175, C1176, C1177, C1178, C1179, C1180, C1181, C1182, C1183, C1184, C1185, C1186, C1187, C1188, C1189, C1190, C1191, C1192, C1193, C1194, C1195, C1196, C1197, C1198, C1199, C1200, C1201, C1202, C1203, C1204, C1205, C1206, C1207, C1208, C1209, C1210, C1211, C1212, C1213, C1214, C1215, C1216, C1217, C1218, C1219, C1220, C1221, C1222, C1223, C1224, C1225, C1226, C1227, C1228, C1229, C1230, C1231, C1232, C1233, C1234, C1235, C1236, C1237, C1238, C1239, C1240, C1241, C1242, C1243, C1244, C1245, C1246, C1247, C1248, C1249, C1250, C1251, C1252, C1253, C1254, C1255, C1256, C1257, C1258, C1259, C1260, C1261, C1262, C1263, C1264, C1265, C1266, C1267, C1268, C1269, C1270, C1271, C1272, C1273, C1274, C1275, C1276, C1277, C1278, C1279, C1280, C1281, C1282, C1283, C1284, C1285, C1286, C1287, C1288, C1289, C1290, C1291, C1292, C1293, C1294, C1295, C1296, C1297, C1298, C1299, C1300, C1301, C1302, C1303, C1304, C1305, C1306, C1307, C1308, C1309, C1310, C1311, C1312, C1313, C1314, C1315, C1316, C1317, C1318, C1319, C1320, C1321, C1322, C1323, C1324, C1325, C1326, C1327, C1328, C1329, C1330, C1331, C1332, C1333, C1334, C1335, C1336, C1337, C1338, C1339, C1340, C1341, C1342, C1343, C1344, C1345, C1346, C1347, C1348, C1349, C1350, C1351, C1352, C1353, C1354, C1355, C1356, C1357, C1358, C1359, C1360, C1361, C1362, C1363, C1364, C1365, C1366, C1367, C1368, C1369, C1370, C1371, C1372, C1373, C1374, C1375, C1376, C1377, C1378, C1379, C1380, C1381, C1382, C1383, C1384, C1385, C1386, C1387, C1388, C1389, C1390, C1391, C1392, C1393, C1394, C1395, C1396, C1397, C1398, C1399, C1400, C1401, C1402, C1403, C1404, C1405, C1406, C1407, C1408, C1409, C1410, C1411, C1412, C1413, C1414, C1415, C1416, C1417, C1418, C1419, C1420, C1421, C1422, C1423, C1424, C1425, C1426, C1427, C1428, C1429, C1430, C1431, C1432, C1433, C1434, C1435, C1436, C1437, C1438, C1439, C1440, C1441, C1442, C1443, C1444, C1445, C1446, C1447, C1448, C1449, C1450, C1451, C1452, C1453, C1454, C1455, C1456]\n"
     ]
    }
   ],
   "source": [
    "if __name__ == \"__main__\":\n",
    "    warehouse_list,plant_list,customer_list,sku_list = read_data(\n",
    "        customer_df,plant_df,warehouse_df,sku_df\n",
    "    )\n",
    "    print(warehouse_list)\n",
    "    print(plant_list)\n",
    "    print(customer_list)\n",
    "    "
   ]
  },
  {
   "cell_type": "code",
   "execution_count": 5,
   "metadata": {},
   "outputs": [],
   "source": [
    "from geopy.distance import geodesic\n",
    "import random\n",
    "# import openpyxl\n",
    "edges_w_c = []\n",
    "for customer in customer_list:\n",
    "    customer_distance = {}\n",
    "    for warehouse in warehouse_list:\n",
    "        distance = geodesic(warehouse.location, customer.location).kilometers\n",
    "        customer_distance[warehouse] = distance\n",
    "    sorted_dict = dict(sorted(customer_distance.items(), key=lambda item: item[1]))\n",
    "    new_list = list(sorted_dict.keys())[:500]\n",
    "    for warehouse in new_list:\n",
    "        rand = random.randint(0,480)\n",
    "        lengg = random.randint(0,20)\n",
    "        for sku in sku_list[rand:rand+leng]:\n",
    "            unit_cost = random.random()*customer_distance[warehouse]/100000\n",
    "            edges_w_c.append({'start_id': warehouse, 'end_id': customer, 'sku': sku, 'unit_cost': unit_cost})\n",
    "\n",
    "edges_w_c_df = pd.DataFrame(edges_w_c)\n",
    "edges_w_c_df.to_csv('data/data_random/edge_sku_info/edges_w_c.csv',index = False)"
   ]
  },
  {
   "cell_type": "code",
   "execution_count": 12,
   "metadata": {},
   "outputs": [],
   "source": [
    "from geopy.distance import geodesic\n",
    "import random\n",
    "# import openpyxl\n",
    "edges_w_c = []\n",
    "for customer in customer_list:\n",
    "    for warehouse in warehouse_list:\n",
    "        rand = random.randint(0,480)\n",
    "        leng = random.randint(0,10)\n",
    "        for sku in sku_list[rand:rand+leng]:\n",
    "            unit_cost = random.random()*geodesic(warehouse.location, customer.location).kilometers/100000\n",
    "            edges_w_c.append({'start_id': warehouse, 'end_id': customer, 'sku': sku, 'unit_cost': unit_cost})\n",
    "\n",
    "edges_w_c_df = pd.DataFrame(edges_w_c)\n",
    "edges_w_c_df.to_csv('data/data_random/edge_sku_info/edges_w_c.csv',index = False)"
   ]
  },
  {
   "cell_type": "code",
   "execution_count": 13,
   "metadata": {},
   "outputs": [],
   "source": [
    "from geopy.distance import geodesic\n",
    "import random\n",
    "# import openpyxl\n",
    "edges_p_w = []\n",
    "for plant in plant_list:\n",
    "    plant_distance = {}\n",
    "    for warehouse in warehouse_list:\n",
    "        rand = random.randint(0,480)\n",
    "        leng = random.randint(0,10)\n",
    "        for sku in sku_list[rand:rand+leng]:\n",
    "            unit_cost = random.random()*geodesic(warehouse.location, plant.location).kilometers/100000\n",
    "            edges_p_w.append({'start_id': plant, 'end_id': warehouse, 'sku': sku, 'unit_cost': unit_cost})\n",
    "edges_p_w_df = pd.DataFrame(edges_p_w)\n",
    "edges_p_w_df.to_csv('data/data_random/edge_sku_info/edges_p_w.csv',index = False)   "
   ]
  },
  {
   "cell_type": "code",
   "execution_count": 14,
   "metadata": {},
   "outputs": [],
   "source": [
    "edges_t_t = []\n",
    "result = list(chunked(warehouse_list, 2))\n",
    "rand_result = random.randint(0,2000)\n",
    "for i in result[rand_result:rand_result+400]:\n",
    "    count = 0\n",
    "    for item in i:\n",
    "        count = count +1 \n",
    "    if count == 2:\n",
    "        rand = random.randint(0,400)\n",
    "        leng = random.randint(0,50)\n",
    "        distance = geodesic(i[0].location, i[1].location).kilometers\n",
    "        for sku in sku_list[rand:rand+leng]:\n",
    "            unit_cost = random.randint(1,2)*distance/1000\n",
    "            edges_t_t.append({'start_id': i[0], 'end_id': i[1], 'sku': sku, 'unit_cost': unit_cost})\n",
    "edges_w_w_df = pd.DataFrame(edges_t_t)\n",
    "edges_w_w_df.to_csv('data/data_random/edge_sku_info/edges_w_w.csv',index = False)"
   ]
  },
  {
   "cell_type": "code",
   "execution_count": 6,
   "metadata": {},
   "outputs": [],
   "source": [
    "from geopy.distance import geodesic\n",
    "import random\n",
    "# import openpyxl\n",
    "edges_p_w = []\n",
    "for plant in plant_list:\n",
    "    plant_distance = {}\n",
    "    for warehouse in warehouse_list:\n",
    "        distance = geodesic(warehouse.location, plant.location).kilometers\n",
    "        plant_distance[warehouse] = distance\n",
    "    sorted_dict = dict(sorted(plant_distance.items(), key=lambda item: item[1]))\n",
    "    new_list = list(sorted_dict.keys())[:500]\n",
    "    for warehouse in new_list:\n",
    "        rand = random.randint(0,480)\n",
    "        leng = random.randint(0,10)\n",
    "        for sku in sku_list[rand:rand+leng]:\n",
    "            unit_cost = random.random()*plant_distance[warehouse]/100000\n",
    "            edges_p_w.append({'start_id': plant, 'end_id': warehouse, 'sku': sku, 'unit_cost': unit_cost})\n",
    "edges_p_w_df = pd.DataFrame(edges_p_w)\n",
    "edges_p_w_df.to_csv('data/data_random/edge_sku_info/edges_p_w.csv',index = False)   "
   ]
  },
  {
   "cell_type": "code",
   "execution_count": 7,
   "metadata": {},
   "outputs": [],
   "source": [
    "edges_t_t = []\n",
    "result = list(chunked(warehouse_list, 2))\n",
    "rand_result = random.randint(0,2000)\n",
    "for i in result[rand_result:rand_result+400]:\n",
    "    count = 0\n",
    "    for item in i:\n",
    "        count = count +1 \n",
    "    if count == 2:\n",
    "        rand = random.randint(0,400)\n",
    "        leng = random.randint(0,50)\n",
    "        distance = geodesic(i[0].location, i[1].location).kilometers\n",
    "        for sku in sku_list[rand:rand+leng]:\n",
    "            unit_cost = random.randint(1,2)*distance/1000\n",
    "            edges_t_t.append({'start_id': i[0], 'end_id': i[1], 'sku': sku, 'unit_cost': unit_cost})\n",
    "edges_w_w_df = pd.DataFrame(edges_t_t)\n",
    "edges_w_w_df.to_csv('data/data_random/edge_sku_info/edges_w_w.csv',index = False)"
   ]
  },
  {
   "cell_type": "code",
   "execution_count": 46,
   "metadata": {},
   "outputs": [],
   "source": [
    "data_dir = 'data/data_random/'\n",
    "data_w_c = data_dir + 'edge_sku_info/edges_w_c.csv'\n",
    "edges_w_c_df = pd.read_csv(data_w_c)\n",
    "data_w_w = data_dir + 'edge_sku_info/edges_w_w.csv'\n",
    "edges_w_w_df = pd.read_csv(data_w_w)\n",
    "data_p_w = data_dir + 'edge_sku_info/edges_p_w.csv'\n",
    "edges_p_w_df = pd.read_csv(data_p_w)\n",
    "edge_sku_df = pd.concat([edges_w_c_df,edges_w_w_df,edges_p_w_df]).dropna()"
   ]
  },
  {
   "cell_type": "code",
   "execution_count": 40,
   "metadata": {},
   "outputs": [],
   "source": [
    "def generate_id(df):\n",
    "    df['id'] = df['start_id']+'_'+df['end_id']\n",
    "    df.drop(columns = ['start_id','end_id','sku'],axis = 0,inplace= True)\n",
    "    df.set_index('id',inplace=True)\n",
    "    duplicated_index = df.index.duplicated()\n",
    "    df = df[~duplicated_index]\n",
    "    df.reset_index(inplace=True)\n",
    "    return df"
   ]
  },
  {
   "cell_type": "code",
   "execution_count": 23,
   "metadata": {},
   "outputs": [
    {
     "data": {
      "text/plain": [
       "True"
      ]
     },
     "execution_count": 23,
     "metadata": {},
     "output_type": "execute_result"
    }
   ],
   "source": [
    "df = generate_id(edge_sku_df)\n",
    "all(~df.index.duplicated())"
   ]
  },
  {
   "cell_type": "code",
   "execution_count": 34,
   "metadata": {},
   "outputs": [],
   "source": [
    "df['qty'] = df['unit_cost']*random.randint(10000000,20000000)\n",
    "df.drop(columns = ['unit_cost'],axis = 0,inplace= True)\n",
    "df.to_csv('data/data_random/capacity.csv',index = False)"
   ]
  },
  {
   "cell_type": "code",
   "execution_count": 47,
   "metadata": {},
   "outputs": [],
   "source": [
    "_w_c_df  = generate_id(edges_w_c_df)\n",
    "_w_c_df.loc[:,'lb'] = _w_c_df.loc[:,'unit_cost']*random.randint(100,200)\n",
    "_w_c_df.drop(columns = ['unit_cost'],axis = 0,inplace= True)\n",
    "_w_c_df.to_csv('data/data_random/lb_end.csv',index = False)"
   ]
  },
  {
   "cell_type": "code",
   "execution_count": 56,
   "metadata": {},
   "outputs": [
    {
     "name": "stderr",
     "output_type": "stream",
     "text": [
      "/var/folders/65/twn59mtd3_v58bsvl__gn_9c0000gn/T/ipykernel_15867/1218875794.py:2: SettingWithCopyWarning: \n",
      "A value is trying to be set on a copy of a slice from a DataFrame.\n",
      "Try using .loc[row_indexer,col_indexer] = value instead\n",
      "\n",
      "See the caveats in the documentation: https://pandas.pydata.org/pandas-docs/stable/user_guide/indexing.html#returning-a-view-versus-a-copy\n",
      "  _w_w_df.loc[:,'lb'] = _w_w_df.loc[:,'unit_cost']*random.randint(200,400)\n",
      "/var/folders/65/twn59mtd3_v58bsvl__gn_9c0000gn/T/ipykernel_15867/1218875794.py:3: SettingWithCopyWarning: \n",
      "A value is trying to be set on a copy of a slice from a DataFrame\n",
      "\n",
      "See the caveats in the documentation: https://pandas.pydata.org/pandas-docs/stable/user_guide/indexing.html#returning-a-view-versus-a-copy\n",
      "  _w_w_df.drop(columns = ['unit_cost'],axis = 0,inplace= True)\n"
     ]
    }
   ],
   "source": [
    "_w_w_df  = generate_id(edges_w_w_df)\n",
    "_w_w_df.loc[:,'lb'] = _w_w_df.loc[:,'unit_cost']*random.randint(200,400)\n",
    "_w_w_df.drop(columns = ['unit_cost'],axis = 0,inplace= True)\n",
    "_w_w_df.to_csv('data/data_random/lb_inter.csv',index = False)"
   ]
  },
  {
   "cell_type": "code",
   "execution_count": 24,
   "metadata": {},
   "outputs": [],
   "source": [
    "def generate_attr():\n",
    "    def generate_id(df):\n",
    "        df['id'] = df['start_id']+'_'+df['end_id']\n",
    "        df.drop(columns = ['start_id','end_id','sku'],axis = 0,inplace= True)\n",
    "        df.set_index('id',inplace=True)\n",
    "        duplicated_index = df.index.duplicated()\n",
    "        df = df[~duplicated_index]\n",
    "        df.reset_index(inplace=True)\n",
    "        return df\n",
    "    data_dir = 'data/data_random/'\n",
    "    data_w_c = data_dir + 'edge_sku_info/edges_w_c.csv'\n",
    "    edges_w_c_df = pd.read_csv(data_w_c)\n",
    "    data_w_w = data_dir + 'edge_sku_info/edges_w_w.csv'\n",
    "    edges_w_w_df = pd.read_csv(data_w_w)\n",
    "    data_p_w = data_dir + 'edge_sku_info/edges_p_w.csv'\n",
    "    edges_p_w_df = pd.read_csv(data_p_w)\n",
    "    edge_sku_df = pd.concat([edges_w_c_df,edges_w_w_df,edges_p_w_df]).dropna()\n",
    "    df = generate_id(edge_sku_df)\n",
    "    df['qty'] = df['unit_cost']*random.randint(10000000,20000000)\n",
    "    df.drop(columns = ['unit_cost'],axis = 0,inplace= True)\n",
    "    df.to_csv('data/data_random/capacity.csv',index = False)\n",
    "    _w_c_df  = generate_id(edges_w_c_df)\n",
    "    _w_c_df.loc[:,'lb'] = _w_c_df.loc[:,'unit_cost']*random.randint(100,200)\n",
    "    _w_c_df.drop(columns = ['unit_cost'],axis = 0,inplace= True)\n",
    "    _w_c_df.to_csv('data/data_random/lb_end.csv',index = False)\n",
    "    _w_w_df  = generate_id(edges_w_w_df)\n",
    "    _w_w_df.loc[:,'lb'] = _w_w_df.loc[:,'unit_cost']*random.randint(200,400)\n",
    "    _w_w_df.drop(columns = ['unit_cost'],axis = 0,inplace= True)\n",
    "    _w_w_df.to_csv('data/data_random/lb_inter.csv',index = False)\n",
    "    print('Generate over')"
   ]
  },
  {
   "cell_type": "code",
   "execution_count": 27,
   "metadata": {},
   "outputs": [],
   "source": [
    "data_dir = 'data/data_random/'\n",
    "data_w_c = data_dir + 'edge_sku_info/edges_w_c.csv'\n",
    "edges_w_c_df = pd.read_csv(data_w_c)\n",
    "data_w_w = data_dir + 'edge_sku_info/edges_w_w.csv'"
   ]
  },
  {
   "cell_type": "code",
   "execution_count": 28,
   "metadata": {},
   "outputs": [
    {
     "data": {
      "text/plain": [
       "'data/data_random/edge_sku_info/edges_w_w.csv'"
      ]
     },
     "execution_count": 28,
     "metadata": {},
     "output_type": "execute_result"
    }
   ],
   "source": [
    "data_w_w"
   ]
  },
  {
   "cell_type": "code",
   "execution_count": null,
   "metadata": {},
   "outputs": [],
   "source": [
    "#---------------------------------分界线------------------------------------"
   ]
  },
  {
   "cell_type": "code",
   "execution_count": 21,
   "metadata": {},
   "outputs": [],
   "source": [
    "import pickle\n",
    "# save graph object to file\n",
    "# pickle.dump(G, open('mygraph.pickle', 'wb'))\n",
    "# load graph object from file\n",
    "G = pickle.load(open('/Users/xue/github/facility-loc-inventory/data_data_random_30_7@12@0.pickle', 'rb'))\n",
    "import folium\n",
    "m = folium.Map(location=[40, -100], zoom_start=3)\n",
    "# 标记不同的颜色\n",
    "for node in G.nodes:\n",
    "    if str(node).startswith('C'):\n",
    "        color = 'red'\n",
    "    elif str(node).startswith('T'):\n",
    "        color = 'blue'\n",
    "    else:\n",
    "        color = 'green'\n",
    "    folium.Marker(location=node.location, popup=str(node),icon=folium.Icon(color=color)).add_to(m)\n",
    "\n",
    "for edge in G.edges:\n",
    "    folium.PolyLine(locations=[edge[0].location, edge[1].location], color='blue').add_to(m)\n",
    "\n",
    "# 保存地图为 HTML 文件\n",
    "m.save('/Users/xue/github/facility-loc-inventory/data_data_random_30_7@12@0.html')\n"
   ]
  },
  {
   "cell_type": "code",
   "execution_count": 4,
   "metadata": {},
   "outputs": [
    {
     "data": {
      "text/plain": [
       "500"
      ]
     },
     "execution_count": 4,
     "metadata": {},
     "output_type": "execute_result"
    }
   ],
   "source": [
    "len(G.graph[\"sku_list\"])"
   ]
  },
  {
   "cell_type": "code",
   "execution_count": 17,
   "metadata": {},
   "outputs": [],
   "source": [
    "import pandas as pd\n",
    "df = pd.read_excel('data/data_random/edge_sku_info.xlsx')\n",
    "df['id'] = df['start_id']+'_'+df['end_id']\n",
    "df.drop(columns = ['start_id','end_id'],axis = 0,inplace= True)\n",
    "df.set_index('id',inplace=True)\n",
    "duplicated_index = df.index.duplicated()\n",
    "df = df[~duplicated_index]\n",
    "df.reset_index(inplace=True)\n",
    "df.to_csv('data/data_random/capacity.csv')"
   ]
  }
 ],
 "metadata": {
  "kernelspec": {
   "display_name": "base",
   "language": "python",
   "name": "python3"
  },
  "language_info": {
   "codemirror_mode": {
    "name": "ipython",
    "version": 3
   },
   "file_extension": ".py",
   "mimetype": "text/x-python",
   "name": "python",
   "nbconvert_exporter": "python",
   "pygments_lexer": "ipython3",
   "version": "3.10.9"
  }
 },
 "nbformat": 4,
 "nbformat_minor": 2
}
