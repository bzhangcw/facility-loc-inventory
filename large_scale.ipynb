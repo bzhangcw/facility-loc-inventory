{
 "cells": [
  {
   "cell_type": "code",
   "execution_count": 2,
   "metadata": {},
   "outputs": [
    {
     "name": "stdout",
     "output_type": "stream",
     "text": [
      "[facinv] 2023-12-19 15:08:34,529: -- The FACINV python package --\n",
      "[facinv] 2023-12-19 15:08:34,529:   LLLGZ, 2023 (c)   \n",
      "[facinv] 2023-12-19 15:08:34,530: :solution      to ./out\n",
      "[facinv] 2023-12-19 15:08:34,530: :data          to ./data\n",
      "[facinv] 2023-12-19 15:08:34,530: :logs and tmps to ./tmp\n"
     ]
    }
   ],
   "source": [
    "import numpy as np\n",
    "import pandas as pd\n",
    "from itertools import product\n",
    "\n",
    "import utils as utils\n",
    "from dnp_model import DNP\n",
    "from config.network import construct_network\n",
    "from ncg.np_cg import *\n",
    "from config.param import Param"
   ]
  },
  {
   "cell_type": "code",
   "execution_count": 3,
   "metadata": {},
   "outputs": [],
   "source": [
    "data_basic = \"/Users/xue/Desktop/basic2.xlsx\"\n",
    "df1 = pd.read_excel(data_basic, sheet_name=\"wc\")\n",
    "df2 = pd.read_excel(data_basic, sheet_name=\"pw\")\n",
    "df3 = pd.read_excel(data_basic, sheet_name=\"ww\")\n"
   ]
  },
  {
   "cell_type": "code",
   "execution_count": null,
   "metadata": {},
   "outputs": [
    {
     "ename": "",
     "evalue": "",
     "output_type": "error",
     "traceback": [
      "\u001b[1;31m在当前单元格或上一个单元格中执行代码时 Kernel 崩溃。请查看单元格中的代码，以确定故障的可能原因。有关详细信息，请单击 <a href='https://aka.ms/vscodeJupyterKernelCrash'>此处</a>。有关更多详细信息，请查看 Jupyter <a href='command:jupyter.viewOutput'>log</a>。"
     ]
    }
   ],
   "source": [
    "from itertools import product\n",
    "list(product(df1['w'], df1['c'], df1['sku']))"
   ]
  },
  {
   "cell_type": "code",
   "execution_count": null,
   "metadata": {},
   "outputs": [
    {
     "ename": "",
     "evalue": "",
     "output_type": "error",
     "traceback": [
      "\u001b[1;31m在当前单元格或上一个单元格中执行代码时 Kernel 崩溃。请查看单元格中的代码，以确定故障的可能原因。有关详细信息，请单击 <a href='https://aka.ms/vscodeJupyterKernelCrash'>此处</a>。有关更多详细信息，请查看 Jupyter <a href='command:jupyter.viewOutput'>log</a>。"
     ]
    },
    {
     "ename": "",
     "evalue": "",
     "output_type": "error",
     "traceback": [
      "\u001b[1;31m在当前单元格或上一个单元格中执行代码时 Kernel 崩溃。请查看单元格中的代码，以确定故障的可能原因。有关详细信息，请单击 <a href='https://aka.ms/vscodeJupyterKernelCrash'>此处</a>。有关更多详细信息，请查看 Jupyter <a href='command:jupyter.viewOutput'>log</a>。"
     ]
    }
   ],
   "source": [
    "wc = pd.DataFrame(list(product(df1['w'], df1['c'], df1['sku'])))\n",
    "wc.columns = ['w', 'c', 'sku']\n",
    "wc.dropna(inplace=True)\n",
    "wc.to_csv('./wc.csv', index=False)"
   ]
  },
  {
   "cell_type": "code",
   "execution_count": null,
   "metadata": {},
   "outputs": [],
   "source": [
    "pw = pd.DataFrame(list(product(df2['p'], df2['w'], df2['sku'])))\n",
    "pw.columns = ['p', 'w', 'sku']\n",
    "pw.dropna(inplace=True)\n",
    "pw.to_csv('/Users/xue/Desktop/pw.csv', index=False)"
   ]
  },
  {
   "cell_type": "code",
   "execution_count": null,
   "metadata": {},
   "outputs": [],
   "source": [
    "ww = pd.DataFrame(list(product(df3['w'], df3['w'], df3['sku'])))\n",
    "ww.columns = ['w', 'w', 'sku']\n",
    "ww.dropna(inplace=True)\n",
    "ww.to_csv('/Users/xue/Desktop/ww.csv', index=False)"
   ]
  }
 ],
 "metadata": {
  "kernelspec": {
   "display_name": "base",
   "language": "python",
   "name": "python3"
  },
  "language_info": {
   "codemirror_mode": {
    "name": "ipython",
    "version": 3
   },
   "file_extension": ".py",
   "mimetype": "text/x-python",
   "name": "python",
   "nbconvert_exporter": "python",
   "pygments_lexer": "ipython3",
   "version": "3.10.9"
  }
 },
 "nbformat": 4,
 "nbformat_minor": 2
}
